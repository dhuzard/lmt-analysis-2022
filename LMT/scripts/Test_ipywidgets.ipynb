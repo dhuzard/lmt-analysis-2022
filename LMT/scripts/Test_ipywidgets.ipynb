{
 "cells": [
  {
   "cell_type": "code",
   "execution_count": 17,
   "id": "bac1df8e-f1ff-44b9-8300-a63cf35c40a3",
   "metadata": {},
   "outputs": [
    {
     "name": "stdout",
     "output_type": "stream",
     "text": [
      "Requirement already satisfied: ipywidgets in c:\\users\\paulc\\appdata\\local\\programs\\python\\python310\\lib\\site-packages (8.0.3)\n",
      "Requirement already satisfied: ipykernel>=4.5.1 in c:\\users\\paulc\\appdata\\local\\programs\\python\\python310\\lib\\site-packages (from ipywidgets) (6.16.2)\n",
      "Requirement already satisfied: traitlets>=4.3.1 in c:\\users\\paulc\\appdata\\local\\programs\\python\\python310\\lib\\site-packages (from ipywidgets) (5.5.0)\n",
      "Requirement already satisfied: jupyterlab-widgets~=3.0 in c:\\users\\paulc\\appdata\\local\\programs\\python\\python310\\lib\\site-packages (from ipywidgets) (3.0.4)\n",
      "Requirement already satisfied: widgetsnbextension~=4.0 in c:\\users\\paulc\\appdata\\local\\programs\\python\\python310\\lib\\site-packages (from ipywidgets) (4.0.4)\n",
      "Requirement already satisfied: ipython>=6.1.0 in c:\\users\\paulc\\appdata\\local\\programs\\python\\python310\\lib\\site-packages (from ipywidgets) (8.5.0)\n",
      "Requirement already satisfied: packaging in c:\\users\\paulc\\appdata\\local\\programs\\python\\python310\\lib\\site-packages (from ipykernel>=4.5.1->ipywidgets) (21.3)\n",
      "Requirement already satisfied: psutil in c:\\users\\paulc\\appdata\\local\\programs\\python\\python310\\lib\\site-packages (from ipykernel>=4.5.1->ipywidgets) (5.9.3)\n",
      "Requirement already satisfied: nest-asyncio in c:\\users\\paulc\\appdata\\local\\programs\\python\\python310\\lib\\site-packages (from ipykernel>=4.5.1->ipywidgets) (1.5.6)\n",
      "Requirement already satisfied: matplotlib-inline>=0.1 in c:\\users\\paulc\\appdata\\local\\programs\\python\\python310\\lib\\site-packages (from ipykernel>=4.5.1->ipywidgets) (0.1.6)\n",
      "Requirement already satisfied: pyzmq>=17 in c:\\users\\paulc\\appdata\\local\\programs\\python\\python310\\lib\\site-packages (from ipykernel>=4.5.1->ipywidgets) (24.0.1)\n",
      "Requirement already satisfied: jupyter-client>=6.1.12 in c:\\users\\paulc\\appdata\\local\\programs\\python\\python310\\lib\\site-packages (from ipykernel>=4.5.1->ipywidgets) (7.4.4)\n",
      "Requirement already satisfied: debugpy>=1.0 in c:\\users\\paulc\\appdata\\local\\programs\\python\\python310\\lib\\site-packages (from ipykernel>=4.5.1->ipywidgets) (1.6.3)\n",
      "Requirement already satisfied: tornado>=6.1 in c:\\users\\paulc\\appdata\\local\\programs\\python\\python310\\lib\\site-packages (from ipykernel>=4.5.1->ipywidgets) (6.2)\n",
      "Requirement already satisfied: colorama in c:\\users\\paulc\\appdata\\local\\programs\\python\\python310\\lib\\site-packages (from ipython>=6.1.0->ipywidgets) (0.4.6)\n",
      "Requirement already satisfied: pickleshare in c:\\users\\paulc\\appdata\\local\\programs\\python\\python310\\lib\\site-packages (from ipython>=6.1.0->ipywidgets) (0.7.5)\n",
      "Requirement already satisfied: prompt-toolkit<3.1.0,>3.0.1 in c:\\users\\paulc\\appdata\\local\\programs\\python\\python310\\lib\\site-packages (from ipython>=6.1.0->ipywidgets) (3.0.31)\n",
      "Requirement already satisfied: decorator in c:\\users\\paulc\\appdata\\local\\programs\\python\\python310\\lib\\site-packages (from ipython>=6.1.0->ipywidgets) (5.1.1)\n",
      "Requirement already satisfied: stack-data in c:\\users\\paulc\\appdata\\local\\programs\\python\\python310\\lib\\site-packages (from ipython>=6.1.0->ipywidgets) (0.6.0)\n",
      "Requirement already satisfied: backcall in c:\\users\\paulc\\appdata\\local\\programs\\python\\python310\\lib\\site-packages (from ipython>=6.1.0->ipywidgets) (0.2.0)\n",
      "Requirement already satisfied: pygments>=2.4.0 in c:\\users\\paulc\\appdata\\local\\programs\\python\\python310\\lib\\site-packages (from ipython>=6.1.0->ipywidgets) (2.13.0)\n",
      "Requirement already satisfied: jedi>=0.16 in c:\\users\\paulc\\appdata\\local\\programs\\python\\python310\\lib\\site-packages (from ipython>=6.1.0->ipywidgets) (0.18.1)\n",
      "Requirement already satisfied: parso<0.9.0,>=0.8.0 in c:\\users\\paulc\\appdata\\local\\programs\\python\\python310\\lib\\site-packages (from jedi>=0.16->ipython>=6.1.0->ipywidgets) (0.8.3)\n",
      "Requirement already satisfied: python-dateutil>=2.8.2 in c:\\users\\paulc\\appdata\\local\\programs\\python\\python310\\lib\\site-packages (from jupyter-client>=6.1.12->ipykernel>=4.5.1->ipywidgets) (2.8.2)\n",
      "Requirement already satisfied: entrypoints in c:\\users\\paulc\\appdata\\local\\programs\\python\\python310\\lib\\site-packages (from jupyter-client>=6.1.12->ipykernel>=4.5.1->ipywidgets) (0.4)\n",
      "Requirement already satisfied: jupyter-core>=4.9.2 in c:\\users\\paulc\\appdata\\local\\programs\\python\\python310\\lib\\site-packages (from jupyter-client>=6.1.12->ipykernel>=4.5.1->ipywidgets) (4.11.2)\n",
      "Requirement already satisfied: wcwidth in c:\\users\\paulc\\appdata\\local\\programs\\python\\python310\\lib\\site-packages (from prompt-toolkit<3.1.0,>3.0.1->ipython>=6.1.0->ipywidgets) (0.2.5)\n",
      "Requirement already satisfied: pyparsing!=3.0.5,>=2.0.2 in c:\\users\\paulc\\appdata\\local\\programs\\python\\python310\\lib\\site-packages (from packaging->ipykernel>=4.5.1->ipywidgets) (3.0.9)\n",
      "Requirement already satisfied: asttokens>=2.1.0 in c:\\users\\paulc\\appdata\\local\\programs\\python\\python310\\lib\\site-packages (from stack-data->ipython>=6.1.0->ipywidgets) (2.1.0)\n",
      "Requirement already satisfied: executing>=1.2.0 in c:\\users\\paulc\\appdata\\local\\programs\\python\\python310\\lib\\site-packages (from stack-data->ipython>=6.1.0->ipywidgets) (1.2.0)\n",
      "Requirement already satisfied: pure-eval in c:\\users\\paulc\\appdata\\local\\programs\\python\\python310\\lib\\site-packages (from stack-data->ipython>=6.1.0->ipywidgets) (0.2.2)\n",
      "Requirement already satisfied: six in c:\\users\\paulc\\appdata\\local\\programs\\python\\python310\\lib\\site-packages (from asttokens>=2.1.0->stack-data->ipython>=6.1.0->ipywidgets) (1.16.0)\n",
      "Requirement already satisfied: pywin32>=1.0 in c:\\users\\paulc\\appdata\\local\\programs\\python\\python310\\lib\\site-packages (from jupyter-core>=4.9.2->jupyter-client>=6.1.12->ipykernel>=4.5.1->ipywidgets) (304)\n",
      "Note: you may need to restart the kernel to use updated packages.\n"
     ]
    }
   ],
   "source": [
    "pip install ipywidgets"
   ]
  },
  {
   "cell_type": "code",
   "execution_count": 18,
   "id": "8f8e078e-8c9b-4968-be8d-119329d8d9cc",
   "metadata": {},
   "outputs": [],
   "source": [
    "import ipywidgets\n",
    "from ipywidgets import interact\n",
    "import matplotlib\n",
    "import matplotlib.pyplot as plt\n",
    "import numpy as np\n",
    "import pandas as pd\n",
    "import seaborn as sns\n",
    "import os\n",
    "import csv"
   ]
  },
  {
   "cell_type": "code",
   "execution_count": 7,
   "id": "d2f218c3-06b2-4ffd-aae6-06b55917d18e",
   "metadata": {},
   "outputs": [
    {
     "name": "stdout",
     "output_type": "stream",
     "text": [
      "<class 'pandas.core.frame.DataFrame'>\n",
      "RangeIndex: 86976 entries, 0 to 86975\n",
      "Data columns (total 29 columns):\n",
      " #   Column          Non-Null Count  Dtype  \n",
      "---  ------          --------------  -----  \n",
      " 0   Unnamed: 0      86976 non-null  int64  \n",
      " 1   Filename        86976 non-null  object \n",
      " 2   Date            86976 non-null  int64  \n",
      " 3   Cage            86976 non-null  object \n",
      " 4   Injection       86976 non-null  object \n",
      " 5   Night-Phase     86976 non-null  int64  \n",
      " 6   Bin             86976 non-null  int64  \n",
      " 7   start_frame     86976 non-null  int64  \n",
      " 8   stop_frame      86976 non-null  int64  \n",
      " 9   name            86976 non-null  object \n",
      " 10  idA             86976 non-null  int64  \n",
      " 11  idB             66024 non-null  float64\n",
      " 12  idC             4200 non-null   float64\n",
      " 13  idD             0 non-null      float64\n",
      " 14  RFidA           86976 non-null  int64  \n",
      " 15  RFidB           85824 non-null  float64\n",
      " 16  RFidC           78126 non-null  float64\n",
      " 17  RFidD           0 non-null      float64\n",
      " 18  GenoA           86976 non-null  object \n",
      " 19  GenoB           85824 non-null  object \n",
      " 20  GenoC           78126 non-null  object \n",
      " 21  GenoD           0 non-null      float64\n",
      " 22  totalLength     86976 non-null  int64  \n",
      " 23  meanLength      62156 non-null  float64\n",
      " 24  medianLength    0 non-null      float64\n",
      " 25  numberOfEvents  86976 non-null  int64  \n",
      " 26  stdLength       62156 non-null  float64\n",
      " 27  CI95_low        62156 non-null  float64\n",
      " 28  CI95_up         62156 non-null  float64\n",
      "dtypes: float64(12), int64(10), object(7)\n",
      "memory usage: 19.2+ MB\n",
      "None\n"
     ]
    }
   ],
   "source": [
    "df = pd.read_csv(\"C:/Users/paulc/Desktop/Stage/lmt-analysis-2022/LMT/scripts/Dataframes/Merge.csv\")\n",
    "print(df.info())"
   ]
  },
  {
   "cell_type": "code",
   "execution_count": 29,
   "id": "070419d9-b437-409a-9c85-6470994c25b5",
   "metadata": {},
   "outputs": [
    {
     "data": {
      "application/vnd.jupyter.widget-view+json": {
       "model_id": "37deda36767842a890b66ac06876be7e",
       "version_major": 2,
       "version_minor": 0
      },
      "text/plain": [
       "interactive(children=(Dropdown(description='Number :', options=(8, 9, 10, 11, 12, 13, 14, 15, 16, 17, 18, 19, …"
      ]
     },
     "metadata": {},
     "output_type": "display_data"
    },
    {
     "data": {
      "text/plain": [
       "<function __main__.generate_password(length)>"
      ]
     },
     "execution_count": 29,
     "metadata": {},
     "output_type": "execute_result"
    }
   ],
   "source": [
    "dropdown = ipywidgets.Dropdown(options=list(range(8,21)),\n",
    "                               value=8,\n",
    "                               description=\"Number :\",\n",
    "                               disable=False)\n",
    "\n",
    "def generate_password(length):\n",
    "    import string\n",
    "    import random\n",
    "    password_choices = string.ascii_letters+'123456789'+'!@#$%^&*'\n",
    "    password = [random.choice(password_choices) for _ in range(length)]\n",
    "    return ''.join(password)\n",
    "\n",
    "ipywidgets.interact(generate_password, length=dropdown)\n"
   ]
  },
  {
   "cell_type": "code",
   "execution_count": 33,
   "id": "4fd4dc01-8404-459f-b20c-8fb27a878245",
   "metadata": {},
   "outputs": [
    {
     "data": {
      "application/vnd.jupyter.widget-view+json": {
       "model_id": "ae194dd01dd844908238e1b6fad5c566",
       "version_major": 2,
       "version_minor": 0
      },
      "text/plain": [
       "interactive(children=(Dropdown(description='Date :', options=(221013, 221017, 221018, 221019, 221020, 221021, …"
      ]
     },
     "metadata": {},
     "output_type": "display_data"
    },
    {
     "data": {
      "text/plain": [
       "<function __main__.choice_date(length)>"
      ]
     },
     "execution_count": 33,
     "metadata": {},
     "output_type": "execute_result"
    }
   ],
   "source": [
    "dropdown = ipywidgets.Dropdown(options=df['Date'].unique(),\n",
    "                               value=df['Date'].unique()[0],\n",
    "                               description=\"Date :\",\n",
    "                               disable=False)\n",
    "\n",
    "def choice_date(length):\n",
    "    dates = df['Date'].unique()\n",
    "\n",
    "ipywidgets.interact(choice_date, length=dropdown)"
   ]
  },
  {
   "cell_type": "code",
   "execution_count": 42,
   "id": "994c7932-af77-49da-9797-83bcfa56cd62",
   "metadata": {},
   "outputs": [
    {
     "name": "stdin",
     "output_type": "stream",
     "text": [
      "What date do you want to use ? 221013\n"
     ]
    },
    {
     "name": "stdout",
     "output_type": "stream",
     "text": [
      "Empty DataFrame\n",
      "Columns: [Unnamed: 0, Filename, Date, Cage, Injection, Night-Phase, Bin, start_frame, stop_frame, name, idA, idB, idC, idD, RFidA, RFidB, RFidC, RFidD, GenoA, GenoB, GenoC, GenoD, totalLength, meanLength, medianLength, numberOfEvents, stdLength, CI95_low, CI95_up]\n",
      "Index: []\n",
      "\n",
      "[0 rows x 29 columns]\n"
     ]
    }
   ],
   "source": [
    "# Select specific rows of df\n",
    "date = input(\"What date do you want to use ?\")\n",
    "temp_df = df[(df[\"Date\"] == date) & (df[\"Cage\"] == 'Cage1') & (df[\"name\"] == 'Move isolated') & (df[\"Night-Phase\"] == 1)]\n",
    "print(temp_df)"
   ]
  },
  {
   "cell_type": "code",
   "execution_count": 13,
   "id": "03e69e48-af8e-409d-b66e-e18193c5f8b0",
   "metadata": {},
   "outputs": [
    {
     "name": "stdout",
     "output_type": "stream",
     "text": [
      "final_df\n",
      "      numberOfEvents    RFidA  Bin GenoA\n",
      "3               2285  4849450    1  NaCl\n",
      "4               1817  4849319    1  NaCl\n",
      "5               2011  4849076    1  NaCl\n",
      "120             2242  4849450    2  NaCl\n",
      "121             1084  4849319    2  NaCl\n",
      "122             2182  4849076    2  NaCl\n",
      "237             1443  4849450    3  NaCl\n",
      "238             1311  4849319    3  NaCl\n",
      "239             1094  4849076    3  NaCl\n",
      "354             1778  4849450    4  NaCl\n",
      "355             1542  4849319    4  NaCl\n",
      "356             1812  4849076    4  NaCl\n",
      "471             2084  4849450    5  NaCl\n",
      "472             1754  4849319    5  NaCl\n",
      "473             2333  4849076    5  NaCl\n",
      "588             2243  4849450    6  NaCl\n",
      "589             2013  4849319    6  NaCl\n",
      "590             2374  4849076    6  NaCl\n",
      "705             2357  4849450    7  NaCl\n",
      "706             2433  4849319    7  NaCl\n",
      "707             2428  4849076    7  NaCl\n",
      "822             4274  4849450    8  NaCl\n",
      "823             3971  4849319    8  NaCl\n",
      "824             3468  4849076    8  NaCl\n",
      "939             3517  4849450    9  NaCl\n",
      "940             3662  4849319    9  NaCl\n",
      "941             2686  4849076    9  NaCl\n",
      "1056             310  4849450   10  NaCl\n",
      "1057              40  4849319   10  NaCl\n",
      "1058             396  4849076   10  NaCl\n",
      "1173               0  4849450   11  NaCl\n",
      "1174               0  4849319   11  NaCl\n",
      "1175               0  4849076   11  NaCl\n",
      "1290               0  4849450   12  NaCl\n",
      "1291               0  4849319   12  NaCl\n",
      "1292               0  4849076   12  NaCl\n"
     ]
    }
   ],
   "source": [
    "# Smaller df\n",
    "final_df = temp_df[['numberOfEvents', 'RFidA', 'Bin', 'GenoA']]\n",
    "print(\"final_df\")\n",
    "print(final_df)"
   ]
  },
  {
   "cell_type": "code",
   "execution_count": 14,
   "id": "1d8842ce-605d-47b7-80eb-7a4a6ceb4cba",
   "metadata": {},
   "outputs": [
    {
     "name": "stdout",
     "output_type": "stream",
     "text": [
      "animals\n",
      "[4849450 4849319 4849076]\n"
     ]
    }
   ],
   "source": [
    "# Preparing for plot\n",
    "bins = final_df['Bin'].unique()\n",
    "animals = final_df['RFidA'].unique()\n",
    "print(\"animals\")\n",
    "print(animals)\n",
    "nbrAnimals = len(animals)\n",
    "nbrEvents = {}"
   ]
  },
  {
   "cell_type": "code",
   "execution_count": 15,
   "id": "6fdb5395-e93a-418c-9b02-02a1c01e79b0",
   "metadata": {},
   "outputs": [
    {
     "data": {
      "image/png": "[encoded data removed]",
      "text/plain": [
       "<Figure size 640x480 with 1 Axes>"
      ]
     },
     "metadata": {},
     "output_type": "display_data"
    },
    {
     "name": "stdout",
     "output_type": "stream",
     "text": [
      "nbr events\n"
     ]
    }
   ],
   "source": [
    "# Plot\n",
    "for i in animals:\n",
    "    x=final_df[final_df[\"RFidA\"] == i]['Bin']\n",
    "    y=final_df[final_df[\"RFidA\"] == i][\"numberOfEvents\"]\n",
    "    plt.plot(x,y, label = final_df[final_df[\"RFidA\"] == i]['GenoA'].unique())\n",
    "plt.title('Numbers of \"Move isolated\" per bin of each mouse')\n",
    "plt.xlabel('Time bins')\n",
    "plt.ylabel('Numbers of \"Move isolated\"')\n",
    "plt.legend(loc = \"upper left\")\n",
    "plt.show()\n",
    "print(\"nbr events\")"
   ]
  },
  {
   "cell_type": "code",
   "execution_count": null,
   "id": "c2e55e31-7ea8-43cd-b01e-5602751fd79b",
   "metadata": {},
   "outputs": [],
   "source": []
  },
  {
   "cell_type": "code",
   "execution_count": null,
   "id": "b04c5362-17ad-40c6-8ce2-505a7364e1a2",
   "metadata": {},
   "outputs": [],
   "source": []
  },
  {
   "cell_type": "code",
   "execution_count": null,
   "id": "5ba70ac8-5b9b-457d-888b-1cbca0959b5a",
   "metadata": {},
   "outputs": [],
   "source": []
  },
  {
   "cell_type": "code",
   "execution_count": null,
   "id": "005f2a3a-4f68-49e4-ba9b-9f12324014bd",
   "metadata": {},
   "outputs": [],
   "source": []
  },
  {
   "cell_type": "code",
   "execution_count": null,
   "id": "46061b6c-011d-4450-925d-fbebf87c350a",
   "metadata": {},
   "outputs": [],
   "source": []
  },
  {
   "cell_type": "code",
   "execution_count": null,
   "id": "68fdfa55-33a1-43d8-8bd0-a4b37afb5e93",
   "metadata": {},
   "outputs": [],
   "source": []
  },
  {
   "cell_type": "code",
   "execution_count": null,
   "id": "b05960e1-6bc7-4dae-8703-d955d82e5949",
   "metadata": {},
   "outputs": [],
   "source": []
  },
  {
   "cell_type": "code",
   "execution_count": null,
   "id": "f0c16a95-a88d-4b2f-a531-ce408b3c9d9d",
   "metadata": {},
   "outputs": [],
   "source": []
  },
  {
   "cell_type": "code",
   "execution_count": null,
   "id": "e3f52052-fee2-485f-89c9-4c07d3ae92cf",
   "metadata": {},
   "outputs": [],
   "source": []
  },
  {
   "cell_type": "code",
   "execution_count": 5,
   "id": "2012b461-5ac9-4154-a3cd-dc90bc696e88",
   "metadata": {},
   "outputs": [
    {
     "data": {
      "application/vnd.jupyter.widget-view+json": {
       "model_id": "4015da1eb8b34edda8dbe73a1db9bcc8",
       "version_major": 2,
       "version_minor": 0
      },
      "text/plain": [
       "interactive(children=(IntSlider(value=10, description='x', max=20), Output()), _dom_classes=('widget-interact'…"
      ]
     },
     "metadata": {},
     "output_type": "display_data"
    },
    {
     "data": {
      "text/plain": [
       "<function __main__.square(x)>"
      ]
     },
     "execution_count": 5,
     "metadata": {},
     "output_type": "execute_result"
    }
   ],
   "source": [
    "def square(x):\n",
    "    x**2\n",
    "interact(square, x = (0,20))"
   ]
  }
 ],
 "metadata": {
  "kernelspec": {
   "display_name": "Python 3 (ipykernel)",
   "language": "python",
   "name": "python3"
  },
  "language_info": {
   "codemirror_mode": {
    "name": "ipython",
    "version": 3
   },
   "file_extension": ".py",
   "mimetype": "text/x-python",
   "name": "python",
   "nbconvert_exporter": "python",
   "pygments_lexer": "ipython3",
   "version": "3.10.8"
  }
 },
 "nbformat": 4,
 "nbformat_minor": 5
}
