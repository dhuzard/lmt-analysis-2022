{
 "cells": [
  {
   "cell_type": "markdown",
   "metadata": {},
   "source": [
    "# Cumulated WaterPoint\n",
    "\n",
    "This script provides the figure for cumulated water point. (note that you need to build the event \"Water Stop\" to get this graph)\n",
    "\n",
    "*Warning: we set the waterpoint at the bottom right of the cage. If you use another location, change the code of the rebuildWaterPoint.py file.*\n",
    "\n",
    "| ![](../images/cumulatedwaterpoint1.jpg) ![](../images/cumulatedwaterpoint2.jpg) ![](../images/cumulatedwaterpoint3.jpg) ![](../images/cumulatedwaterpoint4.jpg)\n",
    "|:--:| \n",
    "|Example of cumulated water point|"
   ]
  },
  {
   "cell_type": "code",
   "execution_count": 1,
   "metadata": {},
   "outputs": [
    {
     "name": "stdout",
     "output_type": "stream",
     "text": [
      "Code launched.\n"
     ]
    },
    {
     "name": "stdin",
     "output_type": "stream",
     "text": [
      "Start :  55555\n"
     ]
    },
    {
     "name": "stdout",
     "output_type": "stream",
     "text": [
      "Entry (in frame) : 55555\n"
     ]
    },
    {
     "name": "stdin",
     "output_type": "stream",
     "text": [
      "End :  4555555\n"
     ]
    },
    {
     "name": "stdout",
     "output_type": "stream",
     "text": [
      "Entry (in frame) : 4555555\n",
      "D:/Stage_M2/LMT+Amphet/221024_Amphet_Cage2_5-3Amphet.sqlite\n",
      "Cage2_5-3Amphet\n",
      "Loading animals.\n",
      "Fields available in lmtanalysis:  ['ID', 'RFID', 'GENOTYPE', 'NAME']\n",
      "SQL Query: SELECT ID,RFID,NAME,GENOTYPE FROM ANIMAL ORDER BY GENOTYPE\n",
      "Animal Id:1 Name:A RFID:000004849390 Genotype:Amphet User1:None\n",
      "Animal Id:2 Name:B RFID:000004849551 Genotype:Amphet User1:None\n",
      "Animal Id:3 Name:C RFID:000004849540 Genotype:Amphet User1:None\n",
      "000004849390\n",
      "Water Stop  Id( 1 , None , None , None ) Min/maxFrame: ( 55555 / 4555555 ) Loaded ( 5  records loaded in  4.121130704879761 S )\n",
      "000004849551\n",
      "Water Stop  Id( 2 , None , None , None ) Min/maxFrame: ( 55555 / 4555555 ) Loaded ( 23  records loaded in  0.5356695652008057 S )\n",
      "000004849540\n",
      "Water Stop  Id( 3 , None , None , None ) Min/maxFrame: ( 55555 / 4555555 ) Loaded ( 1  records loaded in  0.5397183895111084 S )\n",
      "loading night events for file D:/Stage_M2/LMT+Amphet/221024_Amphet_Cage2_5-3Amphet.sqlite\n",
      "night  Id( None , None , None , None ) Min/maxFrame: ( 55555 / 4555555 ) Loaded ( 1  records loaded in  0.8518836498260498 S )\n",
      "000004849390\n",
      "000004849551\n",
      "000004849540\n",
      "2500\n",
      "Saving figure... FigCumulWaterPoint_Cage2_5-3Amphet.pdf\n"
     ]
    },
    {
     "data": {
      "image/png": "[encoded data removed]",
      "text/plain": [
       "<Figure size 800x200 with 1 Axes>"
      ]
     },
     "metadata": {},
     "output_type": "display_data"
    }
   ],
   "source": [
    "import sys\n",
    "sys.path.insert(1, \"../\")\n",
    "\n",
    "import sqlite3\n",
    "from lmtanalysis.Animal import *\n",
    "import matplotlib.pyplot as plt\n",
    "from lmtanalysis.Event import *\n",
    "from lmtanalysis.Measure import *\n",
    "\n",
    "import lmtanalysis\n",
    "from tkinter.filedialog import askopenfilename\n",
    "from tabulate import tabulate\n",
    "from collections import Counter\n",
    "import collections\n",
    "import xlsxwriter\n",
    "import numpy as np\n",
    "import matplotlib.pyplot as plt\n",
    "import matplotlib.ticker as ticker\n",
    "\n",
    "import os\n",
    "from lmtanalysis.FileUtil import getFilesToProcess\n",
    "from lmtanalysis.Util import convert_to_d_h_m_s, getMinTMaxTInput,getFrameInput\n",
    "\n",
    "\n",
    "def frameToTimeTicker(x, pos):\n",
    "   \n",
    "    vals= convert_to_d_h_m_s( x )\n",
    "    return \"D{0} - {1:02d}:{2:02d}\".format( int(vals[0])+1, int(vals[1]), int(vals[2]) )\n",
    "    \n",
    "if __name__ == '__main__':\n",
    "    \n",
    "    print(\"Code launched.\")\n",
    "    saveFile = \"figTimeLineActivity\"\n",
    "    #Choose the files to process\n",
    "    files = getFilesToProcess()\n",
    "    tmin = getFrameInput(\"Start\")\n",
    "    tmax = getFrameInput(\"End\")\n",
    "\n",
    "    for file in files:\n",
    "        print(file)\n",
    "        expName = file[-22:-7]\n",
    "        print( expName )\n",
    "        \n",
    "        connection = sqlite3.connect( file )\n",
    "    \n",
    "        pool = AnimalPool( )\n",
    "        pool.loadAnimals( connection )\n",
    "        \"\"\"        \n",
    "        pool.loadDetection( start = tmin, end = tmax, lightLoad=True)\n",
    "        \"\"\"\n",
    "        #Load the timeline of the water stop event over all individuals\n",
    "        waterStopTimeLine = {}\n",
    "        for animal in pool.animalDictionnary.keys():\n",
    "            print ( pool.animalDictionnary[animal].RFID )\n",
    "            waterStopTimeLine[animal] = EventTimeLine( connection, \"Water Stop\", idA=animal, minFrame=tmin, maxFrame=tmax )\n",
    "            waterStopTimeLine[animal].removeEventsBelowLength( maxLen = MIN_WATER_STOP_DURATION )\n",
    "        \n",
    "        \n",
    "        #Compute cumulative time spent at water point\n",
    "        fig, ax = plt.subplots( 1,1 , figsize=(8, 2 ) )\n",
    "        \n",
    "        ''' build the plot '''\n",
    "        \n",
    "        ymin=-30\n",
    "        fig, ax = plt.subplots( 1,1 , figsize=(8, 2 ) )\n",
    "        ax = plt.gca() # get current axis\n",
    "        ax.set_xlabel(\"time\")\n",
    "        ax.set_xlim([0, tmax])\n",
    "        #ax.set_ylim([ymin, ymax])\n",
    "        \n",
    "        #set x axis\n",
    "        formatter = matplotlib.ticker.FuncFormatter( frameToTimeTicker )\n",
    "        ax.xaxis.set_major_formatter(formatter)\n",
    "        ax.tick_params(labelsize=6 )\n",
    "        ax.xaxis.set_major_locator(ticker.MultipleLocator( 30 * 60 * 60 * 12 ))\n",
    "        ax.xaxis.set_minor_locator(ticker.MultipleLocator( 30 * 60 * 60 ))\n",
    "        \n",
    "        #draw the rectangles for the nights\n",
    "        print(\"loading night events for file \" + file)\n",
    "        nightTimeLine = EventTimeLine( connection, \"night\" , minFrame=tmin, maxFrame=tmax )\n",
    "        \n",
    "        for nightEvent in nightTimeLine.getEventList():\n",
    "            ax.axvspan( nightEvent.startFrame, nightEvent.endFrame, alpha=0.1, color='black')\n",
    "            ax.text( nightEvent.startFrame+(nightEvent.endFrame-nightEvent.startFrame)/2 , 200 , \"dark phase\" ,fontsize=6, ha='center')\n",
    "        \n",
    "        waterPointDuration = {}\n",
    "        timeBin = 1\n",
    "        \n",
    "        #Print the name and genotype of the animals on the graph, with the corresponding colors and the total distance traveled over the experiment\n",
    "        legendHeight = 60\n",
    "        for animal in pool.animalDictionnary.keys():\n",
    "            print ( pool.animalDictionnary[animal].RFID )\n",
    "            ax.text(30*60*60, legendHeight, \"{} {}\".format(pool.animalDictionnary[animal].RFID[5:], pool.animalDictionnary[animal].genotype), color=getAnimalColor(animal), fontsize=5 )\n",
    "            legendHeight += 30 \n",
    "        \n",
    "        \n",
    "        for animal in pool.animalDictionnary.keys():\n",
    "            listCumulated = []\n",
    "            listValue = waterStopTimeLine[animal].getDurationEventInTimeBin( tmin=tmin, tmax=tmax, binSize=timeBin*oneMinute)\n",
    "            cumul = 0\n",
    "            for value in listValue:\n",
    "                cumul+= value\n",
    "                listCumulated.append( cumul )\n",
    "            waterPointDuration[animal ]= listCumulated\n",
    "        \n",
    "        nTimeBins = len(waterPointDuration[1])\n",
    "        print(nTimeBins)\n",
    "        \n",
    "        abs = [1*oneMinute]\n",
    "        for t in range(1, nTimeBins):\n",
    "            x = abs[t-1] + timeBin*oneMinute\n",
    "            abs.append(x)\n",
    "            \n",
    "        for animal in waterPointDuration:    \n",
    "            ax.plot( abs, waterPointDuration[animal] , color= getAnimalColor( animal ))\n",
    "        \n",
    "        \n",
    "        figName = \"FigCumulWaterPoint_{}.pdf\".format( expName )\n",
    "        print (\"Saving figure...\" , figName )\n",
    "        \n",
    "        fig.savefig( figName ,dpi=100)\n",
    "        plt.close( fig )    \n"
   ]
  },
  {
   "cell_type": "code",
   "execution_count": null,
   "metadata": {
    "collapsed": true,
    "jupyter": {
     "outputs_hidden": true
    }
   },
   "outputs": [],
   "source": []
  }
 ],
 "metadata": {
  "kernelspec": {
   "display_name": "Python 3 (ipykernel)",
   "language": "python",
   "name": "python3"
  },
  "language_info": {
   "codemirror_mode": {
    "name": "ipython",
    "version": 3
   },
   "file_extension": ".py",
   "mimetype": "text/x-python",
   "name": "python",
   "nbconvert_exporter": "python",
   "pygments_lexer": "ipython3",
   "version": "3.10.8"
  }
 },
 "nbformat": 4,
 "nbformat_minor": 4
}
