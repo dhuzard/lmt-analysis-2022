{
 "cells": [
  {
   "cell_type": "markdown",
   "metadata": {},
   "source": [
    "# Cumulated Graph of the Distance traveled:\n",
    "\n",
    "This script provides the figure for cumulated water point. (note that you need to build the event \"Water Stop\" to get this graph)\n",
    "\n",
    "*Warning: we set the waterpoint at the bottom right of the cage. If you use another location, change the code of the rebuildWaterPoint.py file.*\n",
    "\n",
    "| ![](../images/cumulatedwaterpoint1.jpg) ![](../images/cumulatedwaterpoint2.jpg) ![](../images/cumulatedwaterpoint3.jpg) ![](../images/cumulatedwaterpoint4.jpg)\n",
    "|:--:| \n",
    "|Example of cumulated water point|"
   ]
  },
  {
   "cell_type": "code",
   "execution_count": 2,
   "metadata": {},
   "outputs": [
    {
     "name": "stdout",
     "output_type": "stream",
     "text": [
      "Code launched.\n"
     ]
    },
    {
     "name": "stdin",
     "output_type": "stream",
     "text": [
      "Start :  11111\n"
     ]
    },
    {
     "name": "stdout",
     "output_type": "stream",
     "text": [
      "Entry (in frame) : 11111\n"
     ]
    },
    {
     "name": "stdin",
     "output_type": "stream",
     "text": [
      "End :  99999\n"
     ]
    },
    {
     "name": "stdout",
     "output_type": "stream",
     "text": [
      "Entry (in frame) : 99999\n",
      "['totalDistance']\n"
     ]
    },
    {
     "name": "stdin",
     "output_type": "stream",
     "text": [
      "Which behavior do you want to plot the Cumulated graph? (No choice here... totalDistance) :  totalDistance\n"
     ]
    },
    {
     "name": "stdout",
     "output_type": "stream",
     "text": [
      "E:/LMT + Amphetamine/LMT recordings (DBs rebuilt)/221020_Amphet_Cage2_4-1Amphet.sqlite\n",
      "expName is:  _Amphet_Cage2_4-1Amphet\n",
      "Loading animals ...\n",
      "Fields available in lmtanalysis Z:  ['ID', 'RFID', 'GENOTYPE', 'NAME']\n",
      "SQL Query: SELECT ID,RFID,NAME,GENOTYPE FROM ANIMAL ORDER BY GENOTYPE\n",
      "Animal Id:1 Name:A RFID:000004849390 Genotype:Amphet User1:None\n",
      "Animal Id:2 Name:B RFID:000004849540 Genotype:NaCl User1:None\n",
      "Animal Id:3 Name:C RFID:000004849551 Genotype:NaCl User1:None\n",
      "000004849390\n",
      "totalDistance  Id( 1 , None , None , None ) Min/maxFrame: ( 11111 / 99999 ) Loaded ( 0  records loaded in  2.049017906188965 S )\n",
      "000004849540\n",
      "totalDistance  Id( 2 , None , None , None ) Min/maxFrame: ( 11111 / 99999 ) Loaded ( 0  records loaded in  0.11302828788757324 S )\n",
      "000004849551\n",
      "totalDistance  Id( 3 , None , None , None ) Min/maxFrame: ( 11111 / 99999 ) Loaded ( 0  records loaded in  0.1090250015258789 S )\n",
      "Computing the distance:\n",
      "Animal Id:3 Name:C RFID:000004849551 Genotype:NaCl User1:None : Loading detection.\n",
      "SELECT FRAMENUMBER, MASS_X, MASS_Y FROM DETECTION WHERE ANIMALID=3 AND FRAMENUMBER>=11111 AND FRAMENUMBER<=99999\n",
      "Animal Id:3 Name:C RFID:000004849551 Genotype:NaCl User1:None   64063  detections loaded in 0.733741283416748 seconds.\n",
      "Compute total distance min:11111 max:99999 \n",
      "Compute total distance min:11111 max:29111 \n",
      "Distance bin n:11111 value:1909.622304678525\n",
      "Compute total distance min:29111 max:47111 \n",
      "Distance bin n:29111 value:2325.036499473626\n",
      "Compute total distance min:47111 max:65111 \n",
      "Distance bin n:47111 value:7461.061767032117\n",
      "Compute total distance min:65111 max:83111 \n",
      "Distance bin n:65111 value:7496.771291413576\n",
      "Compute total distance min:83111 max:101111 \n",
      "Distance bin n:83111 value:856.0577703251487\n",
      "loading night events for file E:/LMT + Amphetamine/LMT recordings (DBs rebuilt)/221020_Amphet_Cage2_4-1Amphet.sqlite\n",
      "night  Id( None , None , None , None ) Min/maxFrame: ( 11111 / 99999 ) Loaded ( 0  records loaded in  0.11202526092529297 S )\n",
      "000004849390\n",
      "000004849540\n",
      "000004849551\n",
      "50\n",
      "totalDistance\n",
      "_Amphet_Cage2_4-1Amphet\n",
      "Saving figure... FigCumul-totalDistance__Amphet_Cage2_4-1Amphet.png\n",
      "*** ALL JOBS DONE *** \n"
     ]
    },
    {
     "data": {
      "image/png": "[encoded data removed]",
      "text/plain": [
       "<Figure size 800x200 with 1 Axes>"
      ]
     },
     "metadata": {},
     "output_type": "display_data"
    }
   ],
   "source": [
    "import sys\n",
    "sys.path.insert(1, \"../\")\n",
    "\n",
    "import sqlite3\n",
    "from lmtanalysis.Animal import *\n",
    "import matplotlib.pyplot as plt\n",
    "from lmtanalysis.Event import *\n",
    "from lmtanalysis.Measure import *\n",
    "\n",
    "import lmtanalysis\n",
    "from tkinter.filedialog import askopenfilename\n",
    "from tabulate import tabulate\n",
    "from collections import Counter\n",
    "import collections\n",
    "import xlsxwriter\n",
    "import numpy as np\n",
    "import matplotlib.pyplot as plt\n",
    "import matplotlib.ticker as ticker\n",
    "\n",
    "import os\n",
    "from lmtanalysis.FileUtil import getFilesToProcess\n",
    "from lmtanalysis.Util import convert_to_d_h_m_s, getMinTMaxTInput,getFrameInput\n",
    "\n",
    "\n",
    "def frameToTimeTicker(x, pos):\n",
    "   \n",
    "    vals= convert_to_d_h_m_s( x )\n",
    "    return \"D{0} - {1:02d}:{2:02d}\".format( int(vals[0])+1, int(vals[1]), int(vals[2]) )\n",
    "    \n",
    "if __name__ == '__main__':\n",
    "    \n",
    "    print(\"Code launched.\")\n",
    "    #Choose the files to process\n",
    "    files = getFilesToProcess()\n",
    "    tmin = getFrameInput(\"Start\")\n",
    "    tmax = getFrameInput(\"End\")\n",
    "\n",
    "    \"\"\"\n",
    "    behavioralEvents = [\"Contact\", \"Oral-oral Contact\", \"Oral-genital Contact\", \"Side by side Contact\", \n",
    "                        \"Side by side Contact, opposite way\", \"Social approach\", \"Get away\", \"Approach contact\", \n",
    "                        \"Approach rear\", \"Break contact\", \"FollowZone Isolated\", \"Train2\", \"Group2\", \"Group3\", \"Group4\",\n",
    "                        \"Group 3 break\", \"Group 3 make\", \"Group 4 break\", \"Group 4 make\", \"Move isolated\", \n",
    "                        \"Move in contact\", \"Rear isolated\", \"Rear in contact\", \"Stop isolated\", \n",
    "                        \"WallJump\",\"totalDistance\", \"Fight\", \"Won Fight\", \"Lost Fight\", \"SAP\"]\n",
    "    \"\"\"\n",
    "    behavioralEvents = [\"totalDistance\"]\n",
    "    \n",
    "    print(behavioralEvents)\n",
    "    \n",
    "    behaviorToPlot = input(\"Which behavior do you want to plot the Cumulated graph? (No choice here... totalDistance) : \")\n",
    "    \n",
    "    saveFile = f\"figTimeLine-{behaviorToPlot}\"\n",
    "\n",
    "    for file in files:\n",
    "        print(file)\n",
    "        expName = file[-30:-7] #Select the name of XP in the filename\n",
    "        print(\"expName is: \", expName )\n",
    "        \n",
    "        connection = sqlite3.connect( file )\n",
    "    \n",
    "        pool = AnimalPool( )\n",
    "        pool.loadAnimals( connection )\n",
    "        \"\"\"        \n",
    "        pool.loadDetection( start = tmin, end = tmax, lightLoad=True)\n",
    "        \"\"\"\n",
    "        \n",
    "        #Load the timeline of the event over all individuals\n",
    "        behaviorTimeLine = {}\n",
    "        for animal in pool.animalDictionnary.keys():\n",
    "            print ( pool.animalDictionnary[animal].RFID )\n",
    "            behaviorTimeLine[animal] = EventTimeLine( connection, behaviorToPlot, idA=animal, minFrame=tmin, maxFrame=tmax )\n",
    "#             behaviorTimeLine[animal].removeEventsBelowLength( maxLen = MIN_WATER_STOP_DURATION )\n",
    "\n",
    "        # Compute the total distance traveled\n",
    "        COMPUTE_TOTAL_DISTANCE = True\n",
    "        if ( COMPUTE_TOTAL_DISTANCE == True ):\n",
    "            print(\"Computing the distance:\")\n",
    "            pool.animalDictionnary[animal].loadDetection( start=tmin, end=tmax, lightLoad = True )\n",
    "            animalTotalDistance = pool.animalDictionnary[animal].getDistance( tmin,tmax)/100\n",
    "            tenMinBin = 10*30*60 #Bins of 10 minutes\n",
    "            animalBinDistance = pool.animalDictionnary[animal].getDistancePerBin(binFrameSize = tenMinBin , minFrame=tmin, maxFrame=tmax )\n",
    "        else:\n",
    "            print(\"Not computing the distance\")\n",
    "        \n",
    "        \n",
    "        #Compute cumulative time spent at water point\n",
    "        fig, ax = plt.subplots( 1,1 , figsize=(8, 2 ) )\n",
    "        \n",
    "        ''' build the plot '''\n",
    "        ymin=-30\n",
    "        fig, ax = plt.subplots(1,1 , figsize=(8, 2 ) )\n",
    "        ax = plt.gca() # get current axis\n",
    "        ax.set_xlabel(\"time\")\n",
    "        ax.set_xlim([0, tmax])\n",
    "        #ax.set_ylim([ymin, ymax])\n",
    "        \n",
    "        #set x axis\n",
    "        formatter = matplotlib.ticker.FuncFormatter( frameToTimeTicker )\n",
    "        ax.xaxis.set_major_formatter(formatter)\n",
    "        ax.tick_params(labelsize=6 )\n",
    "        ax.xaxis.set_major_locator(ticker.MultipleLocator( 30 * 60 * 60 * 12 ))\n",
    "        ax.xaxis.set_minor_locator(ticker.MultipleLocator( 30 * 60 * 60 ))\n",
    "                \n",
    "        #draw the rectangles for the nights\n",
    "        print(\"loading night events for file \" + file)\n",
    "        nightTimeLine = EventTimeLine( connection, \"night\" , minFrame=tmin, maxFrame=tmax )\n",
    "        \n",
    "        for nightEvent in nightTimeLine.getEventList():\n",
    "            ax.axvspan( nightEvent.startFrame, nightEvent.endFrame, alpha=0.1, color='black')\n",
    "            ax.text( nightEvent.startFrame+(nightEvent.endFrame-nightEvent.startFrame)/2 , 200 , \"dark phase\" ,fontsize=6, ha='center')\n",
    "        \n",
    "        behaviorDuration = {}\n",
    "        timeBin = 1\n",
    "        \n",
    "        #Print the name and genotype of the animals on the graph, with the corresponding colors and the total distance traveled over the experiment\n",
    "        legendHeight = 60\n",
    "        rfids_legend = []\n",
    "        geno_legend = []\n",
    "        \n",
    "        for animal in pool.animalDictionnary.keys():\n",
    "            rfids_legend.append(pool.animalDictionnary[animal].RFID[:-4])\n",
    "            geno_legend.append(pool.animalDictionnary[animal].genotype)\n",
    "            if \"Amphet\" in pool.animalDictionnary[animal].genotype:\n",
    "                color = \"red\"\n",
    "            else:\n",
    "                color=\"blue\"\n",
    "            print ( pool.animalDictionnary[animal].RFID )\n",
    "            ax.text(30*60*60, legendHeight, \"{} {}\".format(pool.animalDictionnary[animal].RFID[5:], \n",
    "                                                           pool.animalDictionnary[animal].genotype), color = color, fontsize=5)\n",
    "            \n",
    "#                     color=getAnimalColor(animal), fontsize=5 )\n",
    "            legendHeight += 30 \n",
    "             \n",
    "        for animal in pool.animalDictionnary.keys():\n",
    "            listCumulated = []\n",
    "            listValue = behaviorTimeLine[animal].getDurationEventInTimeBin( tmin=tmin, tmax=tmax, binSize=timeBin*oneMinute)\n",
    "            cumul = 0\n",
    "            for value in listValue:\n",
    "                cumul+= value\n",
    "                listCumulated.append( cumul )\n",
    "            behaviorDuration[animal ]= listCumulated\n",
    "        \n",
    "        nTimeBins = len(behaviorDuration[1])\n",
    "        print(nTimeBins)\n",
    "        \n",
    "        abs = [1*oneMinute]\n",
    "        for t in range(1, nTimeBins):\n",
    "            x = abs[t-1] + timeBin*oneMinute\n",
    "            abs.append(x)\n",
    "            \n",
    "        for animal in behaviorDuration:\n",
    "            if \"Amphet\" in pool.animalDictionnary[animal].genotype:\n",
    "                color = \"red\"\n",
    "            else:\n",
    "                color=\"blue\"\n",
    "            ax.plot( abs, behaviorDuration[animal] , color= color) # color= getAnimalColor( animal )\n",
    "                \n",
    "        ax.legend(geno_legend) #ADD THE GENOTYPE AS LEGEND\n",
    "        fig.suptitle(f\"{expName} / {behaviorToPlot}\")\n",
    "\n",
    "        figName = f\"FigCumul-{behaviorToPlot}_{expName}.png\"\n",
    "        print (behaviorToPlot)\n",
    "        print(expName)\n",
    "        print (\"Saving figure...\" , figName )\n",
    "        fig.savefig( figName ,dpi=100)\n",
    "        \n",
    "#         plt.show()\n",
    "        plt.close( fig )\n",
    "        connection.close() #Stop connection to the DBs\n",
    "        print( \"*** ALL JOBS DONE *** \")\n"
   ]
  },
  {
   "cell_type": "code",
   "execution_count": 10,
   "metadata": {},
   "outputs": [
    {
     "data": {
      "text/plain": [
       "['OBS', 'SFC+']"
      ]
     },
     "execution_count": 10,
     "metadata": {},
     "output_type": "execute_result"
    }
   ],
   "source": [
    "geno_legend"
   ]
  }
 ],
 "metadata": {
  "kernelspec": {
   "display_name": "Python 3 (ipykernel)",
   "language": "python",
   "name": "python3"
  },
  "language_info": {
   "codemirror_mode": {
    "name": "ipython",
    "version": 3
   },
   "file_extension": ".py",
   "mimetype": "text/x-python",
   "name": "python",
   "nbconvert_exporter": "python",
   "pygments_lexer": "ipython3",
   "version": "3.8.8"
  }
 },
 "nbformat": 4,
 "nbformat_minor": 4
}
