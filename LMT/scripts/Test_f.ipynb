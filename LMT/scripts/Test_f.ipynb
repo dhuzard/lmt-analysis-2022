{
 "cells": [
  {
   "cell_type": "markdown",
   "id": "6c1d73d4-c575-483e-9f0c-11b7fcc433d7",
   "metadata": {},
   "source": [
    "## 1. Rebuild the event with nights plus creating csv files\n",
    "\n",
    "#### Questions for the .py file :\n",
    "#### - "
   ]
  },
  {
   "cell_type": "code",
   "execution_count": null,
   "id": "66457481-0192-4545-b584-48d439aee686",
   "metadata": {},
   "outputs": [],
   "source": [
    "from Paul_Rebuild_Plus_Export import *\n",
    "\n",
    "files = getFilesToProcess()\n",
    "\n",
    "buildEvents = input(\"Do you want to rebuild the Events ?\")\n",
    "confirmEvents = input(\"Do you confirm ? \")\n",
    "night = input(\"Do you want to rebuild the night ? Yes (Y) or No (N) :\")\n",
    "startNightInput = input(\"Time of the beginning of the night (hh:mm:ss):\")\n",
    "endNightInput = input(\"Time of the end of the night (hh:mm:ss):\")\n",
    "timeBinsDuration = int(input(\"Enter the TIMEBIN for ALL the files (1min =  1800 frames / 1h = 108000 frames): \"))\n",
    "useNights = input(\"Do you want to use the Nights from the .sqlite files to computes the data ? ('Yes'/'No'): \")\n",
    "\n",
    "count = 0\n",
    "\n",
    "for file in files:\n",
    "    rebuild()\n",
    "    create_csv(count)\n",
    "    count += 1"
   ]
  },
  {
   "cell_type": "markdown",
   "id": "bfd2227d-8c54-4660-92ea-b51440944096",
   "metadata": {},
   "source": [
    "## 2. Merge csv files to create the 'Merge' file for the analysis"
   ]
  },
  {
   "cell_type": "code",
   "execution_count": null,
   "id": "84dd5db2-5c4c-4c99-b003-993640a0b040",
   "metadata": {},
   "outputs": [],
   "source": [
    "from Paul_Merge_csv import *\n",
    "\n",
    "merging()"
   ]
  },
  {
   "cell_type": "markdown",
   "id": "c76fef4e-8b17-45c1-bc8a-eaafc57fc3d5",
   "metadata": {},
   "source": [
    "## 3. Packages to download before launching the tool"
   ]
  },
  {
   "cell_type": "code",
   "execution_count": null,
   "id": "217be792-c3ec-421e-97d4-9595ee14bb68",
   "metadata": {},
   "outputs": [],
   "source": [
    "pip install matplotlib\n",
    "pip install pandas\n",
    "pip install seaborn\n",
    "pip install dabest\n",
    "pip install statsmodels\n",
    "pip install tabulate"
   ]
  },
  {
   "cell_type": "markdown",
   "id": "a54fc25a-d611-46b5-b3f5-50ba1632c84b",
   "metadata": {},
   "source": [
    "## 4. Launch the following cell to start the tool"
   ]
  },
  {
   "cell_type": "code",
   "execution_count": null,
   "id": "e731e371-a216-4a5c-b071-f8569385b6d7",
   "metadata": {},
   "outputs": [],
   "source": [
    "from Fonct_Ipaulwidgets import *\n",
    "\n",
    "display(tab1)\n",
    "display(interactive_plot)\n",
    "display(interactive_stats)"
   ]
  }
 ],
 "metadata": {
  "kernelspec": {
   "display_name": "Python 3 (ipykernel)",
   "language": "python",
   "name": "python3"
  },
  "language_info": {
   "codemirror_mode": {
    "name": "ipython",
    "version": 3
   },
   "file_extension": ".py",
   "mimetype": "text/x-python",
   "name": "python",
   "nbconvert_exporter": "python",
   "pygments_lexer": "ipython3",
   "version": "3.10.8"
  }
 },
 "nbformat": 4,
 "nbformat_minor": 5
}
