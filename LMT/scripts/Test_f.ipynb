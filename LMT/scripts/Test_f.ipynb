{
 "cells": [
  {
   "cell_type": "markdown",
   "id": "c76fef4e-8b17-45c1-bc8a-eaafc57fc3d5",
   "metadata": {},
   "source": [
    "## 0. Packages to download before launching the tool"
   ]
  },
  {
   "cell_type": "code",
   "execution_count": null,
   "id": "3221f11f-8778-49f0-b8eb-f0299893caef",
   "metadata": {},
   "outputs": [],
   "source": [
    "# Launch to install packages\n",
    "\n",
    "pip install matplotlib\n",
    "pip install pandas\n",
    "pip install seaborn\n",
    "pip install dabest\n",
    "pip install statsmodels\n",
    "pip install tabulate\n"
   ]
  },
  {
   "cell_type": "markdown",
   "id": "79d9ce77-6708-473c-acc3-ce5c2f35903d",
   "metadata": {},
   "source": [
    "# 1. Importing all the files\n",
    "\n",
    "#### - Paul_Rebuild_Plus_Export to rebuild the databases and export data into csv files\n",
    "#### - Paul_Export to export data from database into csv files (if you want to try with another timebin without running again the rebuild\n",
    "#### - Paul_Merge_csv to merge all the created csv files into one csv file\n",
    "#### - Fonct_Ipaulwidgets to start using the package Ipywidgets"
   ]
  },
  {
   "cell_type": "code",
   "execution_count": 3,
   "id": "bba58a7a-a741-4e33-a43f-38892373eb15",
   "metadata": {},
   "outputs": [],
   "source": [
    "# Launch to charge python files\n",
    "\n",
    "from Paul_Rebuild_Plus_Export import *\n",
    "from Paul_Export import *\n",
    "from Paul_Merge_csv import *\n",
    "from Fonct_Ipaulwidgets import *\n"
   ]
  },
  {
   "cell_type": "markdown",
   "id": "6c1d73d4-c575-483e-9f0c-11b7fcc433d7",
   "metadata": {},
   "source": [
    "## 2. Rebuild the event with nights plus creating csv files\n",
    "\n",
    "#### Questions for the .py file :\n",
    "#### 'buildEvents' and 'night' : 'Yes' is recommanded to rebuild the events and the nights\n",
    "#### 'startNightInput' and 'endNightInput' : Example for the time of the beginning (17:30:00) or of the end of the night (05:30:00)\n",
    "#### 'timeBinsDuration' : You have to choose the number of timebins to analyze your nights. If you use a timebin of 1hour (108000 frames) and your night is about 12 hours, you will have 12 timebins of one hour."
   ]
  },
  {
   "cell_type": "markdown",
   "id": "90109609-1948-4b94-b728-3929f1867f55",
   "metadata": {},
   "source": [
    "## Launch the cell below :"
   ]
  },
  {
   "cell_type": "code",
   "execution_count": null,
   "id": "66457481-0192-4545-b584-48d439aee686",
   "metadata": {},
   "outputs": [],
   "source": [
    "# Select databases to rebuild and create csv \n",
    "\n",
    "files = getFilesToProcess()\n",
    "\n",
    "# Questions for the rebuild of the databases\n",
    "\n",
    "buildEvents = input(\"Do you want to rebuild the Events ?\")\n",
    "confirmEvents = input(\"Do you confirm ? \")\n",
    "night = input(\"Do you want to rebuild the night ? Yes (Y) or No (N) :\")\n",
    "startNightInput = input(\"Time of the beginning of the night (hh:mm:ss):\")\n",
    "endNightInput = input(\"Time of the end of the night (hh:mm:ss):\")\n",
    "\n",
    "# Questions for the creation of the csv files\n",
    "\n",
    "timeBinsDuration = int(input(\"Enter the TIMEBIN for ALL the files (1min =  1800 frames / 1h = 108000 frames): \"))\n",
    "useNights = input(\"Do you want to use the Nights from the .sqlite files to computes the data ? ('Yes'/'No'): \")\n",
    "\n",
    "count = 0\n",
    "\n",
    "for file in files:\n",
    "    rebuild()\n",
    "    create_csv(count)\n",
    "    count += 1\n"
   ]
  },
  {
   "cell_type": "markdown",
   "id": "000b79fb-8b67-48a6-a897-0f54bfd003ba",
   "metadata": {
    "jp-MarkdownHeadingCollapsed": true,
    "tags": []
   },
   "source": [
    "## 2.2 Launch this cell ONLY if you want to create csv files with other timebin\n",
    "### ! Take a lot of time to process, be sure before doing it !"
   ]
  },
  {
   "cell_type": "code",
   "execution_count": null,
   "id": "f61b43f5-96c6-4d0e-b125-49912b3a3938",
   "metadata": {},
   "outputs": [],
   "source": [
    "Export()\n"
   ]
  },
  {
   "cell_type": "markdown",
   "id": "bfd2227d-8c54-4660-92ea-b51440944096",
   "metadata": {},
   "source": [
    "## 3. Merge csv files to create the 'Merge' file for the analysis"
   ]
  },
  {
   "cell_type": "code",
   "execution_count": null,
   "id": "84dd5db2-5c4c-4c99-b003-993640a0b040",
   "metadata": {},
   "outputs": [],
   "source": [
    "# Launch Merge() function :\n",
    "\n",
    "Merge()\n"
   ]
  },
  {
   "cell_type": "markdown",
   "id": "a54fc25a-d611-46b5-b3f5-50ba1632c84b",
   "metadata": {},
   "source": [
    "## 4. Launch the following cell to start the tool"
   ]
  },
  {
   "cell_type": "code",
   "execution_count": 4,
   "id": "e731e371-a216-4a5c-b071-f8569385b6d7",
   "metadata": {},
   "outputs": [
    {
     "data": {
      "application/vnd.jupyter.widget-view+json": {
       "model_id": "e72a2f0f99df4c43b45e2f3fcd441293",
       "version_major": 2,
       "version_minor": 0
      },
      "text/plain": [
       "Tab(children=(VBox(children=(SelectMultiple(description='Behaviors to analyze', options=('Isolated beh. (eg:Re…"
      ]
     },
     "metadata": {},
     "output_type": "display_data"
    },
    {
     "data": {
      "application/vnd.jupyter.widget-view+json": {
       "model_id": "93304e5af92343cd942e31d007c85a09",
       "version_major": 2,
       "version_minor": 0
      },
      "text/plain": [
       "Output()"
      ]
     },
     "metadata": {},
     "output_type": "display_data"
    },
    {
     "data": {
      "application/vnd.jupyter.widget-view+json": {
       "model_id": "816dec2017e74b068d49790db47aabc5",
       "version_major": 2,
       "version_minor": 0
      },
      "text/plain": [
       "Output()"
      ]
     },
     "metadata": {},
     "output_type": "display_data"
    }
   ],
   "source": [
    "# Launch to analyze the data\n",
    "\n",
    "path = getCsvFileToProcess()\n",
    "display(tab1)\n",
    "display(interactive_plot)\n",
    "display(interactive_stats)\n"
   ]
  }
 ],
 "metadata": {
  "kernelspec": {
   "display_name": "Python 3 (ipykernel)",
   "language": "python",
   "name": "python3"
  },
  "language_info": {
   "codemirror_mode": {
    "name": "ipython",
    "version": 3
   },
   "file_extension": ".py",
   "mimetype": "text/x-python",
   "name": "python",
   "nbconvert_exporter": "python",
   "pygments_lexer": "ipython3",
   "version": "3.10.8"
  }
 },
 "nbformat": 4,
 "nbformat_minor": 5
}
