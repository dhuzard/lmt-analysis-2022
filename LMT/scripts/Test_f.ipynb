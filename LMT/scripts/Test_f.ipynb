{
 "cells": [
  {
   "cell_type": "markdown",
   "id": "c76fef4e-8b17-45c1-bc8a-eaafc57fc3d5",
   "metadata": {},
   "source": [
    "## 0. Packages to download before launching the tool"
   ]
  },
  {
   "cell_type": "code",
   "execution_count": null,
   "id": "3221f11f-8778-49f0-b8eb-f0299893caef",
   "metadata": {},
   "outputs": [],
   "source": [
    "# Launch to install packages\n",
    "\n",
    "pip install matplotlib\n",
    "pip install pandas\n",
    "pip install seaborn\n",
    "pip install dabest\n",
    "pip install statsmodels\n",
    "pip install tabulate\n"
   ]
  },
  {
   "cell_type": "markdown",
   "id": "79d9ce77-6708-473c-acc3-ce5c2f35903d",
   "metadata": {},
   "source": [
    "# 1. Importing all the files\n",
    "\n",
    "#### - Paul_Rebuild_Plus_Export to rebuild the databases and export data into csv files\n",
    "#### - Paul_Export to export data from database into csv files (if you want to try with another timebin without running again the rebuild\n",
    "#### - Paul_Merge_csv to merge all the created csv files into one csv file\n",
    "#### - Fonct_Ipaulwidgets to start using the package Ipywidgets"
   ]
  },
  {
   "cell_type": "code",
   "execution_count": null,
   "id": "bba58a7a-a741-4e33-a43f-38892373eb15",
   "metadata": {},
   "outputs": [],
   "source": [
    "# Launch to charge python files\n",
    "\n",
    "from Paul_Rebuild_Plus_Export import *\n",
    "from Paul_Export import *\n",
    "from Paul_Merge_csv import *\n",
    "from Fonct_Ipaulwidgets import *\n"
   ]
  },
  {
   "cell_type": "markdown",
   "id": "6c1d73d4-c575-483e-9f0c-11b7fcc433d7",
   "metadata": {},
   "source": [
    "## 2. Rebuild the event with nights plus creating csv files\n",
    "\n",
    "#### Questions for the .py file :\n",
    "#### 'buildEvents' and 'night' : 'Yes' is recommanded to rebuild the events and the nights\n",
    "#### 'startNightInput' and 'endNightInput' : Example for the time of the beginning (17:30:00) or of the end of the night (05:30:00)\n",
    "#### 'timeBinsDuration' : You have to choose the number of timebins to analyze your nights. If you use a timebin of 1hour (108000 frames) and your night is about 12 hours, you will have 12 timebins of one hour."
   ]
  },
  {
   "cell_type": "markdown",
   "id": "90109609-1948-4b94-b728-3929f1867f55",
   "metadata": {},
   "source": [
    "## Launch the cell below :"
   ]
  },
  {
   "cell_type": "code",
   "execution_count": null,
   "id": "66457481-0192-4545-b584-48d439aee686",
   "metadata": {},
   "outputs": [],
   "source": [
    "# Select databases to rebuild and create csv \n",
    "\n",
    "files = getFilesToProcess()\n",
    "\n",
    "# Questions for the rebuild of the databases\n",
    "\n",
    "buildEvents = input(\"Do you want to rebuild the Events ?\")\n",
    "confirmEvents = input(\"Do you confirm ? \")\n",
    "night = input(\"Do you want to rebuild the night ? Yes (Y) or No (N) :\")\n",
    "startNightInput = input(\"Time of the beginning of the night (hh:mm:ss):\")\n",
    "endNightInput = input(\"Time of the end of the night (hh:mm:ss):\")\n",
    "\n",
    "# Questions for the creation of the csv files\n",
    "\n",
    "timeBinsDuration = int(input(\"Enter the TIMEBIN for ALL the files (1min =  1800 frames / 1h = 108000 frames): \"))\n",
    "useNights = input(\"Do you want to use the Nights from the .sqlite files to computes the data ? ('Yes'/'No'): \")\n",
    "\n",
    "count = 0\n",
    "\n",
    "for file in files:\n",
    "    rebuild()\n",
    "    create_csv(count)\n",
    "    count += 1\n"
   ]
  },
  {
   "cell_type": "markdown",
   "id": "000b79fb-8b67-48a6-a897-0f54bfd003ba",
   "metadata": {
    "jp-MarkdownHeadingCollapsed": true,
    "tags": []
   },
   "source": [
    "## 2.2 Launch this cell ONLY if you want to create csv files with other timebin\n",
    "### ! Take a lot of time to process, be sure before doing it !"
   ]
  },
  {
   "cell_type": "code",
   "execution_count": null,
   "id": "f61b43f5-96c6-4d0e-b125-49912b3a3938",
   "metadata": {},
   "outputs": [],
   "source": [
    "Export()\n"
   ]
  },
  {
   "cell_type": "markdown",
   "id": "bfd2227d-8c54-4660-92ea-b51440944096",
   "metadata": {},
   "source": [
    "## 3. Merge csv files to create the 'Merge' file for the analysis"
   ]
  },
  {
   "cell_type": "code",
   "execution_count": null,
   "id": "84dd5db2-5c4c-4c99-b003-993640a0b040",
   "metadata": {},
   "outputs": [],
   "source": [
    "# Launch Merge() function :\n",
    "\n",
    "Merge()\n"
   ]
  },
  {
   "cell_type": "markdown",
   "id": "a54fc25a-d611-46b5-b3f5-50ba1632c84b",
   "metadata": {},
   "source": [
    "## 4. Launch the following cell to start the tool"
   ]
  },
  {
   "cell_type": "code",
   "execution_count": 1,
   "id": "f44883df-0047-4f6b-b771-c481e4489dd7",
   "metadata": {},
   "outputs": [
    {
     "ename": "NameError",
     "evalue": "name 'statbutton' is not defined",
     "output_type": "error",
     "traceback": [
      "\u001b[1;31m---------------------------------------------------------------------------\u001b[0m",
      "\u001b[1;31mNameError\u001b[0m                                 Traceback (most recent call last)",
      "Cell \u001b[1;32mIn [1], line 6\u001b[0m\n\u001b[0;32m      4\u001b[0m \u001b[38;5;28;01mfrom\u001b[39;00m \u001b[38;5;21;01mPaul_Export\u001b[39;00m \u001b[38;5;28;01mimport\u001b[39;00m \u001b[38;5;241m*\u001b[39m\n\u001b[0;32m      5\u001b[0m \u001b[38;5;28;01mfrom\u001b[39;00m \u001b[38;5;21;01mPaul_Merge_csv\u001b[39;00m \u001b[38;5;28;01mimport\u001b[39;00m \u001b[38;5;241m*\u001b[39m\n\u001b[1;32m----> 6\u001b[0m \u001b[38;5;28;01mfrom\u001b[39;00m \u001b[38;5;21;01mFonct_Ipaulwidgets_test1\u001b[39;00m \u001b[38;5;28;01mimport\u001b[39;00m \u001b[38;5;241m*\u001b[39m\n",
      "File \u001b[1;32m~\\Desktop\\Stage\\lmt-analysis-2022\\LMT\\scripts\\Fonct_Ipaulwidgets_test1.py:168\u001b[0m\n\u001b[0;32m    159\u001b[0m     interactive_results_stats \u001b[38;5;241m=\u001b[39m widgets\u001b[38;5;241m.\u001b[39minteractive_output(results_update_stats,\n\u001b[0;32m    160\u001b[0m                                                            {\u001b[38;5;124m'\u001b[39m\u001b[38;5;124mdate\u001b[39m\u001b[38;5;124m'\u001b[39m: drop_injection_stat,\n\u001b[0;32m    161\u001b[0m                                                             \u001b[38;5;124m'\u001b[39m\u001b[38;5;124mcage\u001b[39m\u001b[38;5;124m'\u001b[39m: drop_cage_stat,\n\u001b[1;32m   (...)\u001b[0m\n\u001b[0;32m    164\u001b[0m                                                             \u001b[38;5;124m'\u001b[39m\u001b[38;5;124mchoice_type\u001b[39m\u001b[38;5;124m'\u001b[39m: choicetype,\n\u001b[0;32m    165\u001b[0m                                                             \u001b[38;5;124m'\u001b[39m\u001b[38;5;124mstats_type\u001b[39m\u001b[38;5;124m'\u001b[39m: statstype})\n\u001b[0;32m    167\u001b[0m \u001b[38;5;66;03m# Associer la fonction on_button_click à l'événement de clic du bouton\u001b[39;00m\n\u001b[1;32m--> 168\u001b[0m \u001b[43mstatbutton\u001b[49m\u001b[38;5;241m.\u001b[39mon_click(get_plots_stats_button)\n\u001b[0;32m    170\u001b[0m \u001b[38;5;28;01mdef\u001b[39;00m \u001b[38;5;21mtabs\u001b[39m(plot_reset, drop_injection_plot, drop_cage_plot, drop_night_plot, drop_event, stat_reset, drop_stat,\n\u001b[0;32m    171\u001b[0m          drop_injection_stat, drop_cage_stat, drop_night_stat, statstype, nom_dossier, statbutton, animalnumber,\n\u001b[0;32m    172\u001b[0m          choicetype) :\n\u001b[0;32m    173\u001b[0m \n\u001b[0;32m    174\u001b[0m     \u001b[38;5;66;03m# Association des widgets aux onglets\u001b[39;00m\n\u001b[0;32m    175\u001b[0m     box0 \u001b[38;5;241m=\u001b[39m VBox([animalnumber, choicetype])\n",
      "\u001b[1;31mNameError\u001b[0m: name 'statbutton' is not defined"
     ]
    }
   ],
   "source": [
    "# Launch to charge python files\n",
    "\n",
    "from Paul_Rebuild_Plus_Export import *\n",
    "from Paul_Export import *\n",
    "from Paul_Merge_csv import *\n",
    "from Fonct_Ipaulwidgets_test1 import *"
   ]
  },
  {
   "cell_type": "code",
   "execution_count": null,
   "id": "758b4e79-85d7-4000-b4ad-76dbdf7ef16f",
   "metadata": {},
   "outputs": [],
   "source": [
    "# Launch to analyze the data\n",
    "\n",
    "df, date, injection, cage, night_phase, event = launch()\n",
    "plot_reset, stat_reset, animalnumber, choicetype, statstype, drop_injection_plot, drop_cage_plot, drop_event, drop_night_plot, drop_stat, drop_injection_stat, drop_cage_stat, drop_night_stat, nom_dossier, statbutton = create_widgets(injection, cage, event, night_phase)\n",
    "tab1 = tabs(plot_reset, stat_reset, animalnumber, choicetype, \n",
    "            statstype, drop_injection_plot, drop_cage_plot, \n",
    "            drop_event, drop_night_plot, drop_stat, drop_injection_stat, \n",
    "            drop_cage_stat, drop_night_stat, nom_dossier, statbutton)\n",
    "\n",
    "display(tab1)\n",
    "interactive_plot = widgets.interactive_output(update_dropdown,\n",
    "                                              {'date': drop_injection_plot,\n",
    "                                               'cage': drop_cage_plot,\n",
    "                                               'night_phase': drop_night_plot,\n",
    "                                               'event': drop_event})\n",
    "display(interactive_plot)\n",
    "\n",
    "interactive_stats = widgets.interactive_output(update_stats,\n",
    "                                               {'date': drop_injection_stat,\n",
    "                                                'cage': drop_cage_stat,\n",
    "                                                'night_phase': drop_night_stat,\n",
    "                                                'event': drop_event,\n",
    "                                                'choice_type':choicetype,\n",
    "                                                'stats_type':statstype})\n",
    "display(interactive_stats)\n"
   ]
  }
 ],
 "metadata": {
  "kernelspec": {
   "display_name": "Python 3 (ipykernel)",
   "language": "python",
   "name": "python3"
  },
  "language_info": {
   "codemirror_mode": {
    "name": "ipython",
    "version": 3
   },
   "file_extension": ".py",
   "mimetype": "text/x-python",
   "name": "python",
   "nbconvert_exporter": "python",
   "pygments_lexer": "ipython3",
   "version": "3.10.8"
  }
 },
 "nbformat": 4,
 "nbformat_minor": 5
}
