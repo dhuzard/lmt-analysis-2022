{
 "cells": [
  {
   "cell_type": "markdown",
   "metadata": {},
   "source": [
    "# Set Genotype and Sex:\n",
    "\n",
    "This code lets you set the genotype and the sex of each animal in your databases.\n"
   ]
  },
  {
   "cell_type": "code",
   "execution_count": 1,
   "metadata": {},
   "outputs": [
    {
     "name": "stdout",
     "output_type": "stream",
     "text": [
      "---------------\n",
      "Current file:  D:/Stage_M2/LMT+Amphet/221017_Amphet_Cage1_1-Nacl.sqlite\n",
      "Loading animals.\n",
      "Fields available in lmtanalysis:  ['ID', 'RFID', 'GENOTYPE', 'NAME']\n",
      "SQL Query: SELECT ID,RFID,NAME,GENOTYPE FROM ANIMAL ORDER BY GENOTYPE\n",
      "Animal Id:1 Name:A RFID:000004849076 Genotype:NaCl User1:None\n",
      "Animal Id:2 Name:B RFID:000004849450 Genotype:NaCl User1:None\n",
      "Animal Id:3 Name:C RFID:000004849319 Genotype:NaCl User1:None\n",
      "****\n"
     ]
    },
    {
     "name": "stdin",
     "output_type": "stream",
     "text": [
      "Type new Genotype for RFID 000004849076, Current Genotype: NaCl ([Enter] to keep existing one): NaCl\n",
      "Type new Sex for RFID 000004849076, Current Sex: None ([Enter] to keep existing one): \n"
     ]
    },
    {
     "name": "stdout",
     "output_type": "stream",
     "text": [
      "setting  NaCl  to  000004849076\n",
      "keeping Sex None\n",
      "****\n"
     ]
    },
    {
     "name": "stdin",
     "output_type": "stream",
     "text": [
      "Type new Genotype for RFID 000004849450, Current Genotype: NaCl ([Enter] to keep existing one): NaCl\n",
      "Type new Sex for RFID 000004849450, Current Sex: None ([Enter] to keep existing one): \n"
     ]
    },
    {
     "name": "stdout",
     "output_type": "stream",
     "text": [
      "setting  NaCl  to  000004849450\n",
      "keeping Sex None\n",
      "****\n"
     ]
    },
    {
     "name": "stdin",
     "output_type": "stream",
     "text": [
      "Type new Genotype for RFID 000004849319, Current Genotype: NaCl ([Enter] to keep existing one): NaCl\n",
      "Type new Sex for RFID 000004849319, Current Sex: None ([Enter] to keep existing one): \n"
     ]
    },
    {
     "name": "stdout",
     "output_type": "stream",
     "text": [
      "setting  NaCl  to  000004849319\n",
      "keeping Sex None\n",
      "Genotype and Sex saved in database.\n"
     ]
    }
   ],
   "source": [
    "# Set Genotype\n",
    "\n",
    "import sys\n",
    "sys.path.insert(1, \"../\")\n",
    "\n",
    "import sqlite3\n",
    "from lmtanalysis.Animal import *\n",
    "import numpy as np\n",
    "import matplotlib.pyplot as plt\n",
    "from lmtanalysis.Event import *\n",
    "from lmtanalysis.Measure import *\n",
    "import colorsys\n",
    "from collections import Counter\n",
    "import seaborn as sns\n",
    "\n",
    "from tkinter.filedialog import askopenfilename\n",
    "from lmtanalysis.Util import getMinTMaxTAndFileNameInput\n",
    "from lmtanalysis.EventTimeLineCache import EventTimeLineCached\n",
    "from lmtanalysis.FileUtil import getFilesToProcess\n",
    "\n",
    "files = getFilesToProcess()\n",
    "\n",
    "for file in files:\n",
    "    \n",
    "    print(\"---------------\")\n",
    "    print(\"Current file: \" , file )\n",
    "    \n",
    "    connection = sqlite3.connect( file )\n",
    "    \n",
    "    pool = AnimalPool( )\n",
    "    pool.loadAnimals( connection )\n",
    "    \n",
    "    for animal in pool.getAnimalList():\n",
    "        print( \"****\")\n",
    "        \n",
    "        genotype = input(f\"Type new Genotype for RFID {animal.RFID}, Current Genotype: {animal.genotype} ([Enter] to keep existing one):\")\n",
    "        genotype = genotype.strip()\n",
    "        \n",
    "        sex = input(f\"Type new Sex for RFID {animal.RFID}, Current Sex: {animal.sex} ([Enter] to keep existing one):\")\n",
    "        sex = sex.strip()\n",
    "        \n",
    "        if len(genotype) > 0:\n",
    "            print(\"setting \", genotype , \" to \" , animal.RFID )\n",
    "            animal.setGenotype( genotype )\n",
    "        else:\n",
    "            print( \"keeping genotype\", animal.genotype )\n",
    "            \n",
    "        if len(sex) > 0: \n",
    "            print(\"setting \", sex , \" to \" , animal.RFID )\n",
    "            animal.setSex(sex)\n",
    "        else:\n",
    "            print(\"keeping Sex\", animal.sex )\n",
    "        \n",
    "    print(\"Genotype and Sex saved in database.\")\n",
    "        \n",
    "        \n",
    "    \n",
    "    \n"
   ]
  },
  {
   "cell_type": "code",
   "execution_count": null,
   "metadata": {},
   "outputs": [],
   "source": []
  },
  {
   "cell_type": "code",
   "execution_count": null,
   "metadata": {
    "collapsed": true,
    "jupyter": {
     "outputs_hidden": true
    }
   },
   "outputs": [],
   "source": []
  }
 ],
 "metadata": {
  "kernelspec": {
   "display_name": "Python 3 (ipykernel)",
   "language": "python",
   "name": "python3"
  },
  "language_info": {
   "codemirror_mode": {
    "name": "ipython",
    "version": 3
   },
   "file_extension": ".py",
   "mimetype": "text/x-python",
   "name": "python",
   "nbconvert_exporter": "python",
   "pygments_lexer": "ipython3",
   "version": "3.10.8"
  }
 },
 "nbformat": 4,
 "nbformat_minor": 4
}
