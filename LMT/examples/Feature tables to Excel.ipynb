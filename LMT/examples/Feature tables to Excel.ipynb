{
 "cells": [
  {
   "cell_type": "markdown",
   "metadata": {},
   "source": [
    "# Using the lmt-analysis library to export detection and event tables to Excel\n",
    "---"
   ]
  },
  {
   "cell_type": "markdown",
   "metadata": {},
   "source": [
    "### Import required packages"
   ]
  },
  {
   "cell_type": "code",
   "execution_count": null,
   "metadata": {},
   "outputs": [],
   "source": [
    "import os\n",
    "import sys\n",
    "import numpy\n",
    "import pandas\n",
    "import sqlite3\n",
    "\n",
    "sys.path.insert(1, \"../\")\n",
    "\n",
    "from lmtanalysis import Measure\n",
    "from lmtanalysis import Features\n",
    "from lmtanalysis.Util     import getAllEvents\n",
    "from lmtanalysis.Animal   import AnimalPool\n",
    "from lmtanalysis.Event    import EventTimeLine\n",
    "from lmtanalysis.FileUtil import getFilesToProcess"
   ]
  },
  {
   "cell_type": "markdown",
   "metadata": {},
   "source": [
    "### Load an SQLite database"
   ]
  },
  {
   "cell_type": "code",
   "execution_count": null,
   "metadata": {},
   "outputs": [],
   "source": [
    "files = getFilesToProcess()\n",
    "\n",
    "if files and len(files) > 0:\n",
    "    SQLITE_FN = files[0]\n",
    "    out_dir  = os.path.dirname(SQLITE_FN)\n",
    "    out_base = os.path.splitext(SQLITE_FN)[0]\n",
    "else: print(\"No file selected...\")"
   ]
  },
  {
   "cell_type": "markdown",
   "metadata": {},
   "source": [
    "### Connect to data base and load detections for first hour"
   ]
  },
  {
   "cell_type": "code",
   "execution_count": null,
   "metadata": {},
   "outputs": [],
   "source": [
    "connection = sqlite3.connect( SQLITE_FN )\n",
    "\n",
    "animalPool = AnimalPool()\n",
    "\n",
    "# load infos about the animals\n",
    "animalPool.loadAnimals( connection )\n",
    "\n",
    "# load all detection (positions) of all animals for the first hour\n",
    "animalPool.loadDetection( start = 0, end = Measure.oneHour)\n",
    "\n",
    "# retrieve all event names\n",
    "all_events = getAllEvents(connection=connection)\n",
    "\n"
   ]
  },
  {
   "cell_type": "markdown",
   "metadata": {},
   "source": [
    "### Compute detection summary table for two different time ranges\n",
    " * 12 time bins: 0 to 60 minutes with 5 minutes long interval\n",
    " * 1 time bin  : 0 to 60 minutes with 60 minutes long interval"
   ]
  },
  {
   "cell_type": "code",
   "execution_count": null,
   "metadata": {},
   "outputs": [],
   "source": [
    "detections_5min  = Features.computeDetectionFeatures(animalPool, start=\"0min\", end=\"60min\", freq=\"5min\")\n",
    "detections_60min = Features.computeDetectionFeatures(animalPool, start=\"0min\", end=\"60min\", freq=\"60min\")\n",
    "\n",
    "# show\n",
    "detections_5min"
   ]
  },
  {
   "cell_type": "markdown",
   "metadata": {},
   "source": [
    "### Compute event summary table for two different time ranges\n",
    " * 12 time bins: 0 to 60 minutes with 5 minutes long interval\n",
    " * 1 time bin  : 0 to 60 minutes with 60 minutes long interval"
   ]
  },
  {
   "cell_type": "code",
   "execution_count": null,
   "metadata": {},
   "outputs": [],
   "source": [
    "events_5min     = Features.computeEventFeatures(animalPool, start=\"0min\", end=\"60min\", freq=\"5min\")\n",
    "events_60min    = Features.computeEventFeatures(animalPool, start=\"0min\", end=\"60min\", freq=\"60min\")\n",
    "\n",
    "# show one table\n",
    "events_60min"
   ]
  },
  {
   "cell_type": "markdown",
   "metadata": {},
   "source": [
    "### Export to Excel file\n",
    "stored in same folder as sqlite file, with 4 sheets:\n",
    " * Detection 5min\n",
    " * Detection 60min\n",
    " * Events 5min\n",
    " * Events 60min"
   ]
  },
  {
   "cell_type": "code",
   "execution_count": null,
   "metadata": {},
   "outputs": [],
   "source": [
    "export = {}\n",
    "export[\"Detection 5min\"]  = detections_5min\n",
    "export[\"Detection 60min\"] = detections_60min\n",
    "\n",
    "export[\"Events 5min\"]     = events_5min\n",
    "export[\"Events 60min\"]    = events_60min\n",
    "\n",
    "with pandas.ExcelWriter(out_base + \".xlsx\") as excl_writer:\n",
    "    for sheet_name, sheet_df in export.items():\n",
    "        sheet_df.to_excel(excl_writer, sheet_name=sheet_name)"
   ]
  },
  {
   "cell_type": "code",
   "execution_count": null,
   "metadata": {},
   "outputs": [],
   "source": [
    "\n",
    "\n"
   ]
  }
 ],
 "metadata": {
  "kernelspec": {
   "display_name": "Python 3 (ipykernel)",
   "language": "python",
   "name": "python3"
  },
  "language_info": {
   "codemirror_mode": {
    "name": "ipython",
    "version": 3
   },
   "file_extension": ".py",
   "mimetype": "text/x-python",
   "name": "python",
   "nbconvert_exporter": "python",
   "pygments_lexer": "ipython3",
   "version": "3.8.8"
  }
 },
 "nbformat": 4,
 "nbformat_minor": 4
}
